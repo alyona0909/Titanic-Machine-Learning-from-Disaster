{
 "cells": [
  {
   "cell_type": "markdown",
   "metadata": {
    "id": "2rpcqm3xevF9"
   },
   "source": [
    "# Titanic: Machine Learning from Disaster\n",
    "\n",
    "The sinking of the Titanic is one of the most infamous shipwrecks in history.\n",
    "\n",
    "On April 15, 1912, during her maiden voyage, the widely considered “unsinkable” RMS Titanic sank after colliding with an iceberg. Unfortunately, there weren’t enough lifeboats for everyone onboard, resulting in the death of 1502 out of 2224 passengers and crew.\n",
    "\n",
    "This notebook  build a predictive model that answers the question: “what sorts of people were more likely to survive?” using passenger data (ie name, age, gender, socio-economic class, etc).\n",
    "\n",
    "## 1. Problem Definition\n",
    "\n",
    "In our case, the problem will be exploring is classification. We should predict whether or not passenger survive.\n",
    "\n",
    "## 2. Data\n",
    "\n",
    "The data we're using is from Kaggle : https://www.kaggle.com/c/titanic/data\n",
    "\n",
    "The data has been split into two groups:\n",
    "\n",
    "* training set (train.csv)\n",
    "* test set (test.csv)\n",
    "\n",
    "## 3. Evaluation\n",
    "\n",
    "Since machine learning is very experimental, you might say something like,\n",
    "\n",
    "> If we can reach about 75% accuracy at predicting whether or not passenger survive, we'll pursure this project.\n",
    "\n",
    "## 4. Features\n",
    "\n",
    "The training set should be used to build your machine learning models. For the training set, we provide the outcome (also known as the “ground truth”) for each passenger. Your model will be based on “features” like passengers’ gender and class. You can also use feature engineering to create new features.\n",
    "\n",
    "The test set should be used to see how well your model performs on unseen data. For the test set, we do not provide the ground truth for each passenger. It is your job to predict these outcomes. For each passenger in the test set, use the model you trained to predict whether or not they survived the sinking of the Titanic.\n",
    "\n",
    "***Variable Notes***\n",
    "\n",
    "* pclass: A proxy for socio-economic status (SES)\n",
    "    * 1st = Upper\n",
    "    * 2nd = Middle\n",
    "    * 3rd = Lower\n",
    "\n",
    "* age: Age is fractional if less than 1. If the age is estimated, is it in the form of xx.5\n",
    "\n",
    "* sibsp: The dataset defines family relations in this way...\n",
    "    * Sibling = brother, sister, stepbrother, stepsister\n",
    "    * Spouse = husband, wife (mistresses and fiancés were ignored)\n",
    "\n",
    "* parch: The dataset defines family relations in this way...\n",
    "    * Parent = mother, father\n",
    "    * Child = daughter, son, stepdaughter, stepson\n",
    "    * Some children travelled only with a nanny, therefore parch=0 for them.\n",
    "\n",
    "## Preparing the tools\n",
    "* pandas for data analysis\n",
    "* NumPy for numerical operations\n",
    "* Matplotlib/seaborn for plotting of data visualization\n",
    "* Scikit-Learn for machine learning modelling and evaluation"
   ]
  },
  {
   "cell_type": "code",
   "execution_count": 1,
   "metadata": {
    "id": "ZhBx0r2TevF-"
   },
   "outputs": [],
   "source": [
    "# Regular EDA and plotting libraries\n",
    "import pandas as pd\n",
    "import numpy as np\n",
    "import matplotlib.pyplot as plt\n",
    "%matplotlib inline\n",
    "import seaborn as sns\n",
    "\n",
    "# Parsing Data\n",
    "from sklearn.pipeline import Pipeline\n",
    "from sklearn.compose import ColumnTransformer\n",
    "from sklearn.impute import SimpleImputer\n",
    "from sklearn.preprocessing import OneHotEncoder\n",
    "\n",
    "## Models\n",
    "from sklearn.linear_model import LogisticRegression\n",
    "from sklearn.neighbors import KNeighborsClassifier\n",
    "from sklearn.ensemble import RandomForestClassifier\n",
    "\n",
    "## Model evaluators\n",
    "from sklearn.pipeline import make_pipeline\n",
    "from sklearn.model_selection import train_test_split, cross_val_score\n",
    "from sklearn.metrics import accuracy_score, precision_score, recall_score, f1_score\n",
    "from sklearn.model_selection import RandomizedSearchCV, GridSearchCV\n",
    "from sklearn.metrics import confusion_matrix, classification_report\n",
    "from sklearn.metrics import plot_roc_curve"
   ]
  },
  {
   "cell_type": "markdown",
   "metadata": {
    "id": "Mk8QpBgPevGC"
   },
   "source": [
    "### Data Analysis\n",
    "\n",
    "Let's load `train.csv` and `test.csv` as a DataFrame and get some information about data.\n",
    "\n",
    "**Note:**\n",
    "\n",
    "For prediction we need test data in the same format as a train data, so if we change something in train data, we'll do the same in test data."
   ]
  },
  {
   "cell_type": "code",
   "execution_count": 2,
   "metadata": {
    "colab": {
     "base_uri": "https://localhost:8080/",
     "height": 306
    },
    "id": "Y1PKF37levGD",
    "outputId": "1b49af6a-64ef-41d4-ac11-017e23c7c6ff"
   },
   "outputs": [
    {
     "data": {
      "text/html": [
       "<div>\n",
       "<style scoped>\n",
       "    .dataframe tbody tr th:only-of-type {\n",
       "        vertical-align: middle;\n",
       "    }\n",
       "\n",
       "    .dataframe tbody tr th {\n",
       "        vertical-align: top;\n",
       "    }\n",
       "\n",
       "    .dataframe thead th {\n",
       "        text-align: right;\n",
       "    }\n",
       "</style>\n",
       "<table border=\"1\" class=\"dataframe\">\n",
       "  <thead>\n",
       "    <tr style=\"text-align: right;\">\n",
       "      <th></th>\n",
       "      <th>PassengerId</th>\n",
       "      <th>Survived</th>\n",
       "      <th>Pclass</th>\n",
       "      <th>Name</th>\n",
       "      <th>Sex</th>\n",
       "      <th>Age</th>\n",
       "      <th>SibSp</th>\n",
       "      <th>Parch</th>\n",
       "      <th>Ticket</th>\n",
       "      <th>Fare</th>\n",
       "      <th>Cabin</th>\n",
       "      <th>Embarked</th>\n",
       "    </tr>\n",
       "  </thead>\n",
       "  <tbody>\n",
       "    <tr>\n",
       "      <th>0</th>\n",
       "      <td>1</td>\n",
       "      <td>0</td>\n",
       "      <td>3</td>\n",
       "      <td>Braund, Mr. Owen Harris</td>\n",
       "      <td>male</td>\n",
       "      <td>22.0</td>\n",
       "      <td>1</td>\n",
       "      <td>0</td>\n",
       "      <td>A/5 21171</td>\n",
       "      <td>7.2500</td>\n",
       "      <td>NaN</td>\n",
       "      <td>S</td>\n",
       "    </tr>\n",
       "    <tr>\n",
       "      <th>1</th>\n",
       "      <td>2</td>\n",
       "      <td>1</td>\n",
       "      <td>1</td>\n",
       "      <td>Cumings, Mrs. John Bradley (Florence Briggs Th...</td>\n",
       "      <td>female</td>\n",
       "      <td>38.0</td>\n",
       "      <td>1</td>\n",
       "      <td>0</td>\n",
       "      <td>PC 17599</td>\n",
       "      <td>71.2833</td>\n",
       "      <td>C85</td>\n",
       "      <td>C</td>\n",
       "    </tr>\n",
       "    <tr>\n",
       "      <th>2</th>\n",
       "      <td>3</td>\n",
       "      <td>1</td>\n",
       "      <td>3</td>\n",
       "      <td>Heikkinen, Miss. Laina</td>\n",
       "      <td>female</td>\n",
       "      <td>26.0</td>\n",
       "      <td>0</td>\n",
       "      <td>0</td>\n",
       "      <td>STON/O2. 3101282</td>\n",
       "      <td>7.9250</td>\n",
       "      <td>NaN</td>\n",
       "      <td>S</td>\n",
       "    </tr>\n",
       "    <tr>\n",
       "      <th>3</th>\n",
       "      <td>4</td>\n",
       "      <td>1</td>\n",
       "      <td>1</td>\n",
       "      <td>Futrelle, Mrs. Jacques Heath (Lily May Peel)</td>\n",
       "      <td>female</td>\n",
       "      <td>35.0</td>\n",
       "      <td>1</td>\n",
       "      <td>0</td>\n",
       "      <td>113803</td>\n",
       "      <td>53.1000</td>\n",
       "      <td>C123</td>\n",
       "      <td>S</td>\n",
       "    </tr>\n",
       "    <tr>\n",
       "      <th>4</th>\n",
       "      <td>5</td>\n",
       "      <td>0</td>\n",
       "      <td>3</td>\n",
       "      <td>Allen, Mr. William Henry</td>\n",
       "      <td>male</td>\n",
       "      <td>35.0</td>\n",
       "      <td>0</td>\n",
       "      <td>0</td>\n",
       "      <td>373450</td>\n",
       "      <td>8.0500</td>\n",
       "      <td>NaN</td>\n",
       "      <td>S</td>\n",
       "    </tr>\n",
       "  </tbody>\n",
       "</table>\n",
       "</div>"
      ],
      "text/plain": [
       "   PassengerId  Survived  Pclass  \\\n",
       "0            1         0       3   \n",
       "1            2         1       1   \n",
       "2            3         1       3   \n",
       "3            4         1       1   \n",
       "4            5         0       3   \n",
       "\n",
       "                                                Name     Sex   Age  SibSp  \\\n",
       "0                            Braund, Mr. Owen Harris    male  22.0      1   \n",
       "1  Cumings, Mrs. John Bradley (Florence Briggs Th...  female  38.0      1   \n",
       "2                             Heikkinen, Miss. Laina  female  26.0      0   \n",
       "3       Futrelle, Mrs. Jacques Heath (Lily May Peel)  female  35.0      1   \n",
       "4                           Allen, Mr. William Henry    male  35.0      0   \n",
       "\n",
       "   Parch            Ticket     Fare Cabin Embarked  \n",
       "0      0         A/5 21171   7.2500   NaN        S  \n",
       "1      0          PC 17599  71.2833   C85        C  \n",
       "2      0  STON/O2. 3101282   7.9250   NaN        S  \n",
       "3      0            113803  53.1000  C123        S  \n",
       "4      0            373450   8.0500   NaN        S  "
      ]
     },
     "execution_count": 2,
     "metadata": {},
     "output_type": "execute_result"
    }
   ],
   "source": [
    "# load train data as data frame\n",
    "train_df = pd.read_csv(\"train.csv\")\n",
    "test_df = pd.read_csv(\"test.csv\")\n",
    "res_df = test_df[['PassengerId', 'Name']]\n",
    "train_df.head()"
   ]
  },
  {
   "cell_type": "code",
   "execution_count": 3,
   "metadata": {
    "colab": {
     "base_uri": "https://localhost:8080/",
     "height": 340
    },
    "id": "3F-WdQbpevGI",
    "outputId": "5b652a88-2147-4263-f14b-0ec04f1da849"
   },
   "outputs": [
    {
     "name": "stdout",
     "output_type": "stream",
     "text": [
      "<class 'pandas.core.frame.DataFrame'>\n",
      "RangeIndex: 891 entries, 0 to 890\n",
      "Data columns (total 12 columns):\n",
      " #   Column       Non-Null Count  Dtype  \n",
      "---  ------       --------------  -----  \n",
      " 0   PassengerId  891 non-null    int64  \n",
      " 1   Survived     891 non-null    int64  \n",
      " 2   Pclass       891 non-null    int64  \n",
      " 3   Name         891 non-null    object \n",
      " 4   Sex          891 non-null    object \n",
      " 5   Age          714 non-null    float64\n",
      " 6   SibSp        891 non-null    int64  \n",
      " 7   Parch        891 non-null    int64  \n",
      " 8   Ticket       891 non-null    object \n",
      " 9   Fare         891 non-null    float64\n",
      " 10  Cabin        204 non-null    object \n",
      " 11  Embarked     889 non-null    object \n",
      "dtypes: float64(2), int64(5), object(5)\n",
      "memory usage: 83.7+ KB\n"
     ]
    }
   ],
   "source": [
    "# check info about train data, like nums of missing values and type of values\n",
    "train_df.info()"
   ]
  },
  {
   "cell_type": "code",
   "execution_count": 4,
   "metadata": {
    "colab": {
     "base_uri": "https://localhost:8080/",
     "height": 281
    },
    "id": "TiXyN2xtevGL",
    "outputId": "49a67991-8c58-4162-8b4d-25bd1195716c"
   },
   "outputs": [
    {
     "data": {
      "image/png": "[encoded data removed]",
      "text/plain": [
       "<Figure size 432x288 with 1 Axes>"
      ]
     },
     "metadata": {
      "needs_background": "light"
     },
     "output_type": "display_data"
    }
   ],
   "source": [
    "# plot how many passangers survived and not\n",
    "df = train_df['Survived'].value_counts()\n",
    "df.index = ['No', 'Yes']\n",
    "df.plot(kind='bar', color=['salmon', 'deeppink'])\n",
    "plt.title('Is Survived?')\n",
    "plt.ylabel('Frequency')\n",
    "plt.xticks(rotation='horizontal');"
   ]
  },
  {
   "cell_type": "code",
   "execution_count": 5,
   "metadata": {
    "colab": {
     "base_uri": "https://localhost:8080/",
     "height": 427
    },
    "id": "hv2bR9QpevGP",
    "outputId": "a3a87a60-d3f7-4ee8-f0d8-47bc49086cf1"
   },
   "outputs": [
    {
     "data": {
      "image/png": "[encoded data removed]",
      "text/plain": [
       "<Figure size 648x504 with 1 Axes>"
      ]
     },
     "metadata": {},
     "output_type": "display_data"
    }
   ],
   "source": [
    "# plot how many passangers in each class\n",
    "plt.figure(figsize=(9, 7))\n",
    "train_df['Pclass'].value_counts().plot(kind='pie', subplots=True, labels=['3 class', '1 class', '2 class'], autopct='%.2f');\n",
    "plt.title('Distribution of passengers by class');"
   ]
  },
  {
   "cell_type": "code",
   "execution_count": 6,
   "metadata": {
    "colab": {
     "base_uri": "https://localhost:8080/",
     "height": 287
    },
    "id": "rIIuM1I3evGS",
    "outputId": "305b18c5-2852-488c-cd86-b2d8e8841f9f"
   },
   "outputs": [
    {
     "data": {
      "image/png": "[encoded data removed]",
      "text/plain": [
       "<Figure size 432x288 with 1 Axes>"
      ]
     },
     "metadata": {
      "needs_background": "light"
     },
     "output_type": "display_data"
    }
   ],
   "source": [
    "# plot how many passangers survived and not by class\n",
    "dict_survived_per_class = {}\n",
    "for i in range(1, 4):\n",
    "    tmp = train_df[train_df['Pclass'] == i][['Pclass', 'Survived']].value_counts()\n",
    "    not_survived = tmp.iloc[0]\n",
    "    survived = tmp.iloc[1]\n",
    "    dict_survived_per_class[str(i) + ' class'] = [not_survived, survived]\n",
    "df_survived_per_class = pd.DataFrame(dict_survived_per_class, index=['No', 'Yes'])\n",
    "df_survived_per_class.plot(kind='bar', color=['purple', 'pink', 'gray']);\n",
    "plt.title(\"Distribution of passenger survival by class\");\n",
    "plt.ylabel(\"Number of passengers\");"
   ]
  },
  {
   "cell_type": "markdown",
   "metadata": {
    "id": "XRUZNJ53evGW"
   },
   "source": [
    "### Correlation between independent variables\n",
    "\n",
    "We can do this using df.corr() which will create a correlation matrix for us, in other words, a big table of numbers telling us how related each variable is the other."
   ]
  },
  {
   "cell_type": "code",
   "execution_count": 7,
   "metadata": {
    "colab": {
     "base_uri": "https://localhost:8080/",
     "height": 596
    },
    "id": "CqWGPwJ5evGW",
    "outputId": "be2159b8-c21f-42b4-b6d0-48e8e9290a71"
   },
   "outputs": [
    {
     "data": {
      "image/png": "[encoded data removed]",
      "text/plain": [
       "<Figure size 1080x720 with 2 Axes>"
      ]
     },
     "metadata": {
      "needs_background": "light"
     },
     "output_type": "display_data"
    }
   ],
   "source": [
    "corr_matrix = train_df.corr()\n",
    "plt.figure(figsize=(15, 10))\n",
    "sns.heatmap(corr_matrix, \n",
    "            annot=True, \n",
    "            linewidths=0.5, \n",
    "            fmt= \".2f\", \n",
    "            cmap=\"RdPu\");"
   ]
  },
  {
   "cell_type": "markdown",
   "metadata": {
    "id": "WVXE5ydRevGa"
   },
   "source": [
    "### Parsing data\n",
    "\n",
    "To make predictions on train data, we need to be sure, that:\n",
    "* data doesn't contain `NaN` values\n",
    "* all data in a numerical format\n",
    "\n",
    "Check, that our target column doesn't contains `NaN` values, otherwise drop them."
   ]
  },
  {
   "cell_type": "code",
   "execution_count": 8,
   "metadata": {
    "colab": {
     "base_uri": "https://localhost:8080/",
     "height": 34
    },
    "id": "AoH7RK8tevGb",
    "outputId": "45fb203e-96e2-496b-ed39-c8b6be22d6b8"
   },
   "outputs": [
    {
     "name": "stdout",
     "output_type": "stream",
     "text": [
      "Number of missing values in target column 'Survived' equals 0\n"
     ]
    }
   ],
   "source": [
    "if train_df['Survived'].isna().sum():\n",
    "    train_df = train_df.dropna(subset=[\"Survived\"])\n",
    "    \n",
    "print(f\"Number of missing values in target column \\'Survived\\' equals {train_df['Survived'].isna().sum()}\")"
   ]
  },
  {
   "cell_type": "markdown",
   "metadata": {
    "id": "jbsM29QOevGe"
   },
   "source": [
    "Because we have PassengerId we don't need a full name of passenger, so let's drop it."
   ]
  },
  {
   "cell_type": "code",
   "execution_count": 9,
   "metadata": {
    "colab": {
     "base_uri": "https://localhost:8080/",
     "height": 204
    },
    "id": "kVWwAVTSevGe",
    "outputId": "9228cb4a-ee34-4ad0-9b9a-0da5ebff2fad"
   },
   "outputs": [
    {
     "data": {
      "text/html": [
       "<div>\n",
       "<style scoped>\n",
       "    .dataframe tbody tr th:only-of-type {\n",
       "        vertical-align: middle;\n",
       "    }\n",
       "\n",
       "    .dataframe tbody tr th {\n",
       "        vertical-align: top;\n",
       "    }\n",
       "\n",
       "    .dataframe thead th {\n",
       "        text-align: right;\n",
       "    }\n",
       "</style>\n",
       "<table border=\"1\" class=\"dataframe\">\n",
       "  <thead>\n",
       "    <tr style=\"text-align: right;\">\n",
       "      <th></th>\n",
       "      <th>PassengerId</th>\n",
       "      <th>Survived</th>\n",
       "      <th>Pclass</th>\n",
       "      <th>Sex</th>\n",
       "      <th>Age</th>\n",
       "      <th>SibSp</th>\n",
       "      <th>Parch</th>\n",
       "      <th>Ticket</th>\n",
       "      <th>Fare</th>\n",
       "      <th>Cabin</th>\n",
       "      <th>Embarked</th>\n",
       "    </tr>\n",
       "  </thead>\n",
       "  <tbody>\n",
       "    <tr>\n",
       "      <th>0</th>\n",
       "      <td>1</td>\n",
       "      <td>0</td>\n",
       "      <td>3</td>\n",
       "      <td>male</td>\n",
       "      <td>22.0</td>\n",
       "      <td>1</td>\n",
       "      <td>0</td>\n",
       "      <td>A/5 21171</td>\n",
       "      <td>7.2500</td>\n",
       "      <td>NaN</td>\n",
       "      <td>S</td>\n",
       "    </tr>\n",
       "    <tr>\n",
       "      <th>1</th>\n",
       "      <td>2</td>\n",
       "      <td>1</td>\n",
       "      <td>1</td>\n",
       "      <td>female</td>\n",
       "      <td>38.0</td>\n",
       "      <td>1</td>\n",
       "      <td>0</td>\n",
       "      <td>PC 17599</td>\n",
       "      <td>71.2833</td>\n",
       "      <td>C85</td>\n",
       "      <td>C</td>\n",
       "    </tr>\n",
       "    <tr>\n",
       "      <th>2</th>\n",
       "      <td>3</td>\n",
       "      <td>1</td>\n",
       "      <td>3</td>\n",
       "      <td>female</td>\n",
       "      <td>26.0</td>\n",
       "      <td>0</td>\n",
       "      <td>0</td>\n",
       "      <td>STON/O2. 3101282</td>\n",
       "      <td>7.9250</td>\n",
       "      <td>NaN</td>\n",
       "      <td>S</td>\n",
       "    </tr>\n",
       "    <tr>\n",
       "      <th>3</th>\n",
       "      <td>4</td>\n",
       "      <td>1</td>\n",
       "      <td>1</td>\n",
       "      <td>female</td>\n",
       "      <td>35.0</td>\n",
       "      <td>1</td>\n",
       "      <td>0</td>\n",
       "      <td>113803</td>\n",
       "      <td>53.1000</td>\n",
       "      <td>C123</td>\n",
       "      <td>S</td>\n",
       "    </tr>\n",
       "    <tr>\n",
       "      <th>4</th>\n",
       "      <td>5</td>\n",
       "      <td>0</td>\n",
       "      <td>3</td>\n",
       "      <td>male</td>\n",
       "      <td>35.0</td>\n",
       "      <td>0</td>\n",
       "      <td>0</td>\n",
       "      <td>373450</td>\n",
       "      <td>8.0500</td>\n",
       "      <td>NaN</td>\n",
       "      <td>S</td>\n",
       "    </tr>\n",
       "  </tbody>\n",
       "</table>\n",
       "</div>"
      ],
      "text/plain": [
       "   PassengerId  Survived  Pclass     Sex   Age  SibSp  Parch  \\\n",
       "0            1         0       3    male  22.0      1      0   \n",
       "1            2         1       1  female  38.0      1      0   \n",
       "2            3         1       3  female  26.0      0      0   \n",
       "3            4         1       1  female  35.0      1      0   \n",
       "4            5         0       3    male  35.0      0      0   \n",
       "\n",
       "             Ticket     Fare Cabin Embarked  \n",
       "0         A/5 21171   7.2500   NaN        S  \n",
       "1          PC 17599  71.2833   C85        C  \n",
       "2  STON/O2. 3101282   7.9250   NaN        S  \n",
       "3            113803  53.1000  C123        S  \n",
       "4            373450   8.0500   NaN        S  "
      ]
     },
     "execution_count": 9,
     "metadata": {},
     "output_type": "execute_result"
    }
   ],
   "source": [
    "train_df.drop('Name', axis=1, inplace=True)\n",
    "test_df.drop('Name', axis=1, inplace=True)\n",
    "train_df.head()"
   ]
  },
  {
   "cell_type": "markdown",
   "metadata": {
    "id": "w5nbc-FsevGh"
   },
   "source": [
    "Let's look which types of columns we have."
   ]
  },
  {
   "cell_type": "code",
   "execution_count": 10,
   "metadata": {
    "colab": {
     "base_uri": "https://localhost:8080/",
     "height": 34
    },
    "id": "KUHof_pOevGi",
    "outputId": "6f8d49a7-ddee-4914-f9cb-d69a864fb72a"
   },
   "outputs": [
    {
     "data": {
      "text/plain": [
       "((891, 11), (418, 10))"
      ]
     },
     "execution_count": 10,
     "metadata": {},
     "output_type": "execute_result"
    }
   ],
   "source": [
    "train_df.shape, test_df.shape"
   ]
  },
  {
   "cell_type": "code",
   "execution_count": 11,
   "metadata": {
    "colab": {
     "base_uri": "https://localhost:8080/",
     "height": 425
    },
    "id": "eoW902wyevGl",
    "outputId": "cfd7c08d-3512-4fb1-ba57-3a1aea3781bd"
   },
   "outputs": [
    {
     "name": "stdout",
     "output_type": "stream",
     "text": [
      "TRAIN DATA\n",
      "PassengerId  type is int64\n",
      "Survived  type is int64\n",
      "Pclass  type is int64\n",
      "Sex  type is object\n",
      "Age  type is float64\n",
      "SibSp  type is int64\n",
      "Parch  type is int64\n",
      "Ticket  type is object\n",
      "Fare  type is float64\n",
      "Cabin  type is object\n",
      "Embarked  type is object\n",
      "\n",
      "TEST DATA\n",
      "PassengerId  type is int64\n",
      "Pclass  type is int64\n",
      "Sex  type is object\n",
      "Age  type is float64\n",
      "SibSp  type is int64\n",
      "Parch  type is int64\n",
      "Ticket  type is object\n",
      "Fare  type is float64\n",
      "Cabin  type is object\n",
      "Embarked  type is object\n"
     ]
    }
   ],
   "source": [
    "# check data types for train\n",
    "print(\"TRAIN DATA\")\n",
    "for label, values in train_df.items():\n",
    "    print(label, \" type is\" , values.dtype)\n",
    "    \n",
    "# check data types for test\n",
    "print(\"\\nTEST DATA\")\n",
    "for label, values in test_df.items():\n",
    "    print(label, \" type is\" , values.dtype)"
   ]
  },
  {
   "cell_type": "code",
   "execution_count": 12,
   "metadata": {
    "colab": {
     "base_uri": "https://localhost:8080/",
     "height": 459
    },
    "id": "ep9lpcDcevGo",
    "outputId": "3c176a37-d41f-47e1-dc01-03ee05e79bac"
   },
   "outputs": [
    {
     "name": "stdout",
     "output_type": "stream",
     "text": [
      "TRAIN DATA\n",
      "PassengerId      0\n",
      "Survived         0\n",
      "Pclass           0\n",
      "Sex              0\n",
      "Age            177\n",
      "SibSp            0\n",
      "Parch            0\n",
      "Ticket           0\n",
      "Fare             0\n",
      "Cabin          687\n",
      "Embarked         2\n",
      "dtype: int64\n",
      "\n",
      "TEST DATA\n",
      "PassengerId      0\n",
      "Pclass           0\n",
      "Sex              0\n",
      "Age             86\n",
      "SibSp            0\n",
      "Parch            0\n",
      "Ticket           0\n",
      "Fare             1\n",
      "Cabin          327\n",
      "Embarked         0\n",
      "dtype: int64\n"
     ]
    }
   ],
   "source": [
    "# check NaN values for train\n",
    "print(\"TRAIN DATA\")\n",
    "print(train_df.isna().sum())\n",
    "\n",
    "# check NaN values for test\n",
    "print(\"\\nTEST DATA\")\n",
    "print(test_df.isna().sum())"
   ]
  },
  {
   "cell_type": "markdown",
   "metadata": {
    "id": "ld7VrMiHevGu"
   },
   "source": [
    "So, we need to convert object data into numerical and fill missing values. For example, convert column `Sex`\n",
    " * female -> 1\n",
    " * male -> 0"
   ]
  },
  {
   "cell_type": "code",
   "execution_count": 13,
   "metadata": {
    "colab": {
     "base_uri": "https://localhost:8080/",
     "height": 204
    },
    "id": "TObxnw55evGu",
    "outputId": "04f2c7ba-c282-4f81-ac95-d505a610c4d5"
   },
   "outputs": [
    {
     "data": {
      "text/html": [
       "<div>\n",
       "<style scoped>\n",
       "    .dataframe tbody tr th:only-of-type {\n",
       "        vertical-align: middle;\n",
       "    }\n",
       "\n",
       "    .dataframe tbody tr th {\n",
       "        vertical-align: top;\n",
       "    }\n",
       "\n",
       "    .dataframe thead th {\n",
       "        text-align: right;\n",
       "    }\n",
       "</style>\n",
       "<table border=\"1\" class=\"dataframe\">\n",
       "  <thead>\n",
       "    <tr style=\"text-align: right;\">\n",
       "      <th></th>\n",
       "      <th>PassengerId</th>\n",
       "      <th>Survived</th>\n",
       "      <th>Pclass</th>\n",
       "      <th>Sex</th>\n",
       "      <th>Age</th>\n",
       "      <th>SibSp</th>\n",
       "      <th>Parch</th>\n",
       "      <th>Ticket</th>\n",
       "      <th>Fare</th>\n",
       "      <th>Cabin</th>\n",
       "      <th>Embarked</th>\n",
       "    </tr>\n",
       "  </thead>\n",
       "  <tbody>\n",
       "    <tr>\n",
       "      <th>0</th>\n",
       "      <td>1</td>\n",
       "      <td>0</td>\n",
       "      <td>3</td>\n",
       "      <td>0</td>\n",
       "      <td>22.0</td>\n",
       "      <td>1</td>\n",
       "      <td>0</td>\n",
       "      <td>A/5 21171</td>\n",
       "      <td>7.2500</td>\n",
       "      <td>NaN</td>\n",
       "      <td>S</td>\n",
       "    </tr>\n",
       "    <tr>\n",
       "      <th>1</th>\n",
       "      <td>2</td>\n",
       "      <td>1</td>\n",
       "      <td>1</td>\n",
       "      <td>1</td>\n",
       "      <td>38.0</td>\n",
       "      <td>1</td>\n",
       "      <td>0</td>\n",
       "      <td>PC 17599</td>\n",
       "      <td>71.2833</td>\n",
       "      <td>C85</td>\n",
       "      <td>C</td>\n",
       "    </tr>\n",
       "    <tr>\n",
       "      <th>2</th>\n",
       "      <td>3</td>\n",
       "      <td>1</td>\n",
       "      <td>3</td>\n",
       "      <td>1</td>\n",
       "      <td>26.0</td>\n",
       "      <td>0</td>\n",
       "      <td>0</td>\n",
       "      <td>STON/O2. 3101282</td>\n",
       "      <td>7.9250</td>\n",
       "      <td>NaN</td>\n",
       "      <td>S</td>\n",
       "    </tr>\n",
       "    <tr>\n",
       "      <th>3</th>\n",
       "      <td>4</td>\n",
       "      <td>1</td>\n",
       "      <td>1</td>\n",
       "      <td>1</td>\n",
       "      <td>35.0</td>\n",
       "      <td>1</td>\n",
       "      <td>0</td>\n",
       "      <td>113803</td>\n",
       "      <td>53.1000</td>\n",
       "      <td>C123</td>\n",
       "      <td>S</td>\n",
       "    </tr>\n",
       "    <tr>\n",
       "      <th>4</th>\n",
       "      <td>5</td>\n",
       "      <td>0</td>\n",
       "      <td>3</td>\n",
       "      <td>0</td>\n",
       "      <td>35.0</td>\n",
       "      <td>0</td>\n",
       "      <td>0</td>\n",
       "      <td>373450</td>\n",
       "      <td>8.0500</td>\n",
       "      <td>NaN</td>\n",
       "      <td>S</td>\n",
       "    </tr>\n",
       "  </tbody>\n",
       "</table>\n",
       "</div>"
      ],
      "text/plain": [
       "   PassengerId  Survived  Pclass  Sex   Age  SibSp  Parch            Ticket  \\\n",
       "0            1         0       3    0  22.0      1      0         A/5 21171   \n",
       "1            2         1       1    1  38.0      1      0          PC 17599   \n",
       "2            3         1       3    1  26.0      0      0  STON/O2. 3101282   \n",
       "3            4         1       1    1  35.0      1      0            113803   \n",
       "4            5         0       3    0  35.0      0      0            373450   \n",
       "\n",
       "      Fare Cabin Embarked  \n",
       "0   7.2500   NaN        S  \n",
       "1  71.2833   C85        C  \n",
       "2   7.9250   NaN        S  \n",
       "3  53.1000  C123        S  \n",
       "4   8.0500   NaN        S  "
      ]
     },
     "execution_count": 13,
     "metadata": {},
     "output_type": "execute_result"
    }
   ],
   "source": [
    "# create simple function to convert \"Sex\" column\n",
    "def convert_sex_column(df):\n",
    "    new_sex = []\n",
    "\n",
    "    for i in train_df['Sex']:\n",
    "        if i == 'male':\n",
    "            new_sex.append(0)\n",
    "        else:\n",
    "            new_sex.append(1)\n",
    "    df['Sex'] = pd.Series(new_sex)\n",
    "\n",
    "# train\n",
    "convert_sex_column(train_df)\n",
    "\n",
    "#test\n",
    "convert_sex_column(test_df)\n",
    "\n",
    "train_df.head()"
   ]
  },
  {
   "cell_type": "code",
   "execution_count": 14,
   "metadata": {
    "colab": {
     "base_uri": "https://localhost:8080/",
     "height": 221
    },
    "id": "cEDxpLlVevGx",
    "outputId": "e8713e4f-6c69-4847-940a-675a4a1f106e"
   },
   "outputs": [
    {
     "name": "stdout",
     "output_type": "stream",
     "text": [
      "TRAIN DATA\n",
      "PassengerId  type is int64\n",
      "Survived  type is int64\n",
      "Pclass  type is int64\n",
      "Sex  type is int64\n",
      "Age  type is float64\n",
      "SibSp  type is int64\n",
      "Parch  type is int64\n",
      "Ticket  type is object\n",
      "Fare  type is float64\n",
      "Cabin  type is object\n",
      "Embarked  type is object\n"
     ]
    }
   ],
   "source": [
    "# check data types\n",
    "print(\"TRAIN DATA\")\n",
    "for label, values in train_df.items():\n",
    "    print(label, \" type is\" , values.dtype)"
   ]
  },
  {
   "cell_type": "markdown",
   "metadata": {
    "id": "eL--U9OIevG1"
   },
   "source": [
    "Missing values in column `Age` we can fill with the median."
   ]
  },
  {
   "cell_type": "code",
   "execution_count": 15,
   "metadata": {
    "id": "ddJrPpoxevG1"
   },
   "outputs": [],
   "source": [
    "# define features to numerical\n",
    "numerical_features = ['Age', 'Fare']\n",
    "\n",
    "# create numeric transformer Pipeline\n",
    "numeric_transformer = Pipeline(steps=[\n",
    "    # Set SimpleImputer strategy to fill missing values with the \"Median\"\n",
    "    (\"imputer\", SimpleImputer(strategy=\"median\"))\n",
    "])"
   ]
  },
  {
   "cell_type": "markdown",
   "metadata": {
    "id": "OYBb3bH3evG4"
   },
   "source": [
    "Let's look on columns `Cabin` and `Embarked`. They are in object format and both have missing values. So, we'll create our preprocessing Pipeline which fills missing values along with turning all non-numerical data into numbers.\n",
    "\n",
    "Column `Ticket` also has an object type, but hasn't missing values. We need only turn all non-numerical data into numbers."
   ]
  },
  {
   "cell_type": "code",
   "execution_count": 16,
   "metadata": {
    "id": "z82QHwAxevG8"
   },
   "outputs": [],
   "source": [
    "# define categorical features\n",
    "categorical_features = ['Cabin', 'Embarked', 'Ticket']\n",
    "\n",
    "# create categorical transformer Pipeline\n",
    "categorical_transformer = Pipeline(steps=[\n",
    "    # Set SimpleImputer strategy to \"constant\" and fill value to \"missing\"\n",
    "    (\"imputer\", SimpleImputer(strategy=\"constant\", fill_value=\"missing\")),\n",
    "    # Set OneHotEncoder to ignore the unknowns\n",
    "    (\"onehot\", OneHotEncoder(handle_unknown=\"ignore\"))\n",
    "])"
   ]
  },
  {
   "cell_type": "markdown",
   "metadata": {
    "id": "qpKxfD1FevG_"
   },
   "source": [
    "Time to put all of our individual transformer Pipeline's into a single ColumnTransformer instance."
   ]
  },
  {
   "cell_type": "code",
   "execution_count": 17,
   "metadata": {
    "id": "xkDgomduevHA"
   },
   "outputs": [],
   "source": [
    "# Setup preprocessing steps (fill missing values, then convert to numbers)\n",
    "preprocessor = ColumnTransformer(\n",
    "    transformers=[\n",
    "        # Use the categorical_transformer to transform the categorical_features\n",
    "        (\"cabin_emberked_ticket\", categorical_transformer, categorical_features),\n",
    "        # Use the numeric_transformer to transform the numeric_features\n",
    "        (\"age\", numeric_transformer, numerical_features)])"
   ]
  },
  {
   "cell_type": "markdown",
   "metadata": {
    "id": "f3lA2KkkevHC"
   },
   "source": [
    "Now our preprocessor is ready, time to import some classification models to try out.\n",
    "\n",
    "### Modeling\n",
    "\n",
    "We'll be using the following models and comparing their results.\n",
    "\n",
    "* LogisticRegression\n",
    "* KNeighborsClassifier\n",
    "* RandomForestClassifier"
   ]
  },
  {
   "cell_type": "code",
   "execution_count": 18,
   "metadata": {
    "id": "ZbQCyiYFevHD"
   },
   "outputs": [],
   "source": [
    "# put models into a dictionary\n",
    "classification_models = {\"LogisticRegression\" : LogisticRegression(max_iter=500),\n",
    "          \"KNeighborsClassifier\" : KNeighborsClassifier(),\n",
    "          \"RandomForestClassifier\" : RandomForestClassifier()}\n",
    "\n",
    "# create an empty dictionary for the classification results\n",
    "classification_results = {}"
   ]
  },
  {
   "cell_type": "markdown",
   "metadata": {
    "id": "dmsyOG4tevHG"
   },
   "source": [
    "Split data on X & y variables. \n",
    "* X - data for training and testing (without \"Survived\")\n",
    "* y - column to predict (Survived)\n",
    "\n",
    "Also we create a validation dataset, to score our results."
   ]
  },
  {
   "cell_type": "code",
   "execution_count": 19,
   "metadata": {
    "colab": {
     "base_uri": "https://localhost:8080/",
     "height": 34
    },
    "id": "iECeVgWDevHH",
    "outputId": "1d2d6535-37c5-44d9-f976-af0ced11df0c"
   },
   "outputs": [
    {
     "data": {
      "text/plain": [
       "((712, 10), (179, 10), (712,), (179,))"
      ]
     },
     "execution_count": 19,
     "metadata": {},
     "output_type": "execute_result"
    }
   ],
   "source": [
    "# everything except target variable\n",
    "X = train_df.drop([\"Survived\"], axis=1)\n",
    "X_test = test_df\n",
    "# target variable\n",
    "y = train_df[\"Survived\"]\n",
    "\n",
    "# train and validation (20% from X) data sets\n",
    "X_train, X_val, y_train, y_val = train_test_split(X, y, test_size=0.2, random_state=42)\n",
    "\n",
    "# Check the shapes of the training and test datasets\n",
    "X_train.shape, X_val.shape, y_train.shape, y_val.shape"
   ]
  },
  {
   "cell_type": "markdown",
   "metadata": {
    "id": "8JA2Z0RCevHK"
   },
   "source": [
    "Let's build a small loop which is going to:\n",
    "\n",
    "* Go through our `classification_models` dictionary\n",
    "* Create a Pipeline which contains our `preprocessor` as well as one of the models in the dictionary\n",
    "* Fits the Pipeline to the training data"
   ]
  },
  {
   "cell_type": "code",
   "execution_count": 20,
   "metadata": {
    "colab": {
     "base_uri": "https://localhost:8080/",
     "height": 272
    },
    "id": "3l90rAvfevHL",
    "outputId": "398472f1-b421-42c5-9774-d37e5137b2c4"
   },
   "outputs": [
    {
     "name": "stdout",
     "output_type": "stream",
     "text": [
      "\n",
      "Fitting LogisticRegression...\n",
      "LogisticRegression was fitted!\n",
      "Scoring LogisticRegression...\n",
      "LogisticRegression was scored!\n",
      "\n",
      "Fitting KNeighborsClassifier...\n",
      "KNeighborsClassifier was fitted!\n",
      "Scoring KNeighborsClassifier...\n",
      "KNeighborsClassifier was scored!\n",
      "\n",
      "Fitting RandomForestClassifier...\n",
      "RandomForestClassifier was fitted!\n",
      "Scoring RandomForestClassifier...\n",
      "RandomForestClassifier was scored!\n"
     ]
    }
   ],
   "source": [
    "# Loop through the items in the classification_models dictionary\n",
    "for model_name, model in classification_models.items():\n",
    "    \n",
    "    # Create a model pipeline with a preprocessor step and model step\n",
    "    model_pipeline = Pipeline(steps=[(\"preprocessor\", preprocessor),\n",
    "                                      (\"model\", model)])\n",
    "    \n",
    "    # Fit the model pipeline to the training data\n",
    "    print(f\"\\nFitting {model_name}...\")\n",
    "    model_pipeline.fit(X_train, y_train)\n",
    "    print(f\"{model_name} was fitted!\")\n",
    "    \n",
    "    # Score the model pipeline on the validation data appending the model_name to the \n",
    "    # results dictionary\n",
    "    print(f\"Scoring {model_name}...\")\n",
    "    classification_results[model_name] = round(model_pipeline.score(X_val, y_val) * 100, 2)\n",
    "    print(f\"{model_name} was scored!\")"
   ]
  },
  {
   "cell_type": "code",
   "execution_count": 21,
   "metadata": {
    "colab": {
     "base_uri": "https://localhost:8080/",
     "height": 353
    },
    "id": "SCeJcNi0evHN",
    "outputId": "f240b195-e10e-4c17-8865-c4c916de7fdd"
   },
   "outputs": [
    {
     "name": "stdout",
     "output_type": "stream",
     "text": [
      "{'LogisticRegression': 75.98, 'KNeighborsClassifier': 66.48, 'RandomForestClassifier': 72.07}\n"
     ]
    },
    {
     "data": {
      "image/png": "[encoded data removed]",
      "text/plain": [
       "<Figure size 720x360 with 1 Axes>"
      ]
     },
     "metadata": {
      "needs_background": "light"
     },
     "output_type": "display_data"
    }
   ],
   "source": [
    "# Check the results of each classification model by printing the classification_results dictionary\n",
    "print(classification_results)\n",
    "pd.DataFrame(classification_results, index=[\"accuracy\"]).plot(kind='barh', figsize=(10, 5),\n",
    "                                                              title=\"Comparing models\");"
   ]
  },
  {
   "cell_type": "markdown",
   "metadata": {
    "id": "TaapjezFevHQ"
   },
   "source": [
    "## Tuning models\n",
    "\n",
    "Let's tune our models, using GridSearchCV. So, we need pick parameters grid for each model."
   ]
  },
  {
   "cell_type": "code",
   "execution_count": 22,
   "metadata": {
    "id": "oGgb4kzGevHR"
   },
   "outputs": [],
   "source": [
    "# different models hyperparameters\n",
    "param_grid = {\"LogisticRegression\" : {'logisticregression__penalty' : ['l2', 'elasticnet'], \n",
    "                                      'logisticregression__C': np.logspace(-4, 4, 20), \n",
    "                                      'logisticregression__solver' : [\"liblinear\", \"saga\", \"newton-cg\"]},\n",
    "          \"KNeighborsClassifier\" : {'kneighborsclassifier__n_neighbors' : np.arange(1,30), \n",
    "                                    'kneighborsclassifier__weights' : [\"uniform\", \"distance\"], \n",
    "                                    'kneighborsclassifier__metric' : ['minkowski','euclidean','manhattan']},\n",
    "          \"RandomForestClassifier\" : {'randomforestclassifier__n_estimators' : np.arange(100, 1000, 100),  \n",
    "                                      'randomforestclassifier__max_depth' : [5, 10, 25], \n",
    "                                      'randomforestclassifier__max_features' : np.arange(0.1, 0.6, 0.1), \n",
    "                                      'randomforestclassifier__min_samples_leaf' : [1, 2, 4],\n",
    "                                      'randomforestclassifier__min_samples_split' : [2, 5, 10]}}\n",
    "              \n",
    "\n",
    "# create an empty dictionary for the models best parameters\n",
    "best_parameters_by_model = {}\n",
    "\n",
    "# create an empty dictionary for the classification results\n",
    "classification_results_tune = {}\n",
    "\n",
    "# create an empty dictionary for the val models predictions\n",
    "y_val_preds = {}\n",
    "\n",
    "# create an empty dictionary for the models predictions\n",
    "y_preds = {}"
   ]
  },
  {
   "cell_type": "code",
   "execution_count": 23,
   "metadata": {
    "colab": {
     "base_uri": "https://localhost:8080/",
     "height": 595
    },
    "id": "4y8UeJSuevHV",
    "outputId": "88e33f6e-85a2-4ed8-f33a-9810cfb7c6df"
   },
   "outputs": [
    {
     "name": "stdout",
     "output_type": "stream",
     "text": [
      "\n",
      "Fitting LogisticRegression...\n",
      "Fitting 5 folds for each of 120 candidates, totalling 600 fits\n"
     ]
    },
    {
     "name": "stderr",
     "output_type": "stream",
     "text": [
      "[Parallel(n_jobs=-1)]: Using backend LokyBackend with 16 concurrent workers.\n",
      "[Parallel(n_jobs=-1)]: Done  18 tasks      | elapsed:    2.4s\n",
      "[Parallel(n_jobs=-1)]: Done 352 tasks      | elapsed:    3.8s\n",
      "[Parallel(n_jobs=-1)]: Done 569 out of 600 | elapsed:    4.6s remaining:    0.2s\n",
      "[Parallel(n_jobs=-1)]: Done 600 out of 600 | elapsed:    4.9s finished\n",
      "[Parallel(n_jobs=-1)]: Using backend LokyBackend with 16 concurrent workers.\n"
     ]
    },
    {
     "name": "stdout",
     "output_type": "stream",
     "text": [
      "LogisticRegression was fitted!\n",
      "Scoring LogisticRegression...\n",
      "LogisticRegression was scored!\n",
      "Making predictions LogisticRegression...\n",
      "LogisticRegression predictions done!\n",
      "\n",
      "Fitting KNeighborsClassifier...\n",
      "Fitting 5 folds for each of 174 candidates, totalling 870 fits\n"
     ]
    },
    {
     "name": "stderr",
     "output_type": "stream",
     "text": [
      "[Parallel(n_jobs=-1)]: Done  18 tasks      | elapsed:    0.1s\n",
      "[Parallel(n_jobs=-1)]: Done 512 tasks      | elapsed:    1.8s\n",
      "[Parallel(n_jobs=-1)]: Done 870 out of 870 | elapsed:    2.8s finished\n",
      "[Parallel(n_jobs=-1)]: Using backend LokyBackend with 16 concurrent workers.\n"
     ]
    },
    {
     "name": "stdout",
     "output_type": "stream",
     "text": [
      "KNeighborsClassifier was fitted!\n",
      "Scoring KNeighborsClassifier...\n",
      "KNeighborsClassifier was scored!\n",
      "Making predictions KNeighborsClassifier...\n",
      "KNeighborsClassifier predictions done!\n",
      "\n",
      "Fitting RandomForestClassifier...\n",
      "Fitting 5 folds for each of 1215 candidates, totalling 6075 fits\n"
     ]
    },
    {
     "name": "stderr",
     "output_type": "stream",
     "text": [
      "[Parallel(n_jobs=-1)]: Done  18 tasks      | elapsed:    1.3s\n",
      "[Parallel(n_jobs=-1)]: Done 168 tasks      | elapsed:   14.6s\n",
      "[Parallel(n_jobs=-1)]: Done 418 tasks      | elapsed:   35.6s\n",
      "[Parallel(n_jobs=-1)]: Done 768 tasks      | elapsed:  1.1min\n",
      "[Parallel(n_jobs=-1)]: Done 1218 tasks      | elapsed:  1.8min\n",
      "[Parallel(n_jobs=-1)]: Done 1768 tasks      | elapsed:  2.7min\n",
      "[Parallel(n_jobs=-1)]: Done 2418 tasks      | elapsed:  3.7min\n",
      "[Parallel(n_jobs=-1)]: Done 3168 tasks      | elapsed:  4.9min\n",
      "[Parallel(n_jobs=-1)]: Done 4018 tasks      | elapsed:  6.5min\n",
      "[Parallel(n_jobs=-1)]: Done 4968 tasks      | elapsed:  8.2min\n",
      "[Parallel(n_jobs=-1)]: Done 6018 tasks      | elapsed: 10.3min\n",
      "[Parallel(n_jobs=-1)]: Done 6075 out of 6075 | elapsed: 10.4min finished\n"
     ]
    },
    {
     "name": "stdout",
     "output_type": "stream",
     "text": [
      "RandomForestClassifier was fitted!\n",
      "Scoring RandomForestClassifier...\n",
      "RandomForestClassifier was scored!\n",
      "Making predictions RandomForestClassifier...\n",
      "RandomForestClassifier predictions done!\n"
     ]
    }
   ],
   "source": [
    "# Loop through the items in the classification_models dictionary\n",
    "for model_name, model in classification_models.items():\n",
    "    \n",
    "    # Create a model pipeline with a preprocessor step and model step    \n",
    "    model_pipeline = make_pipeline(preprocessor, model)\n",
    "    \n",
    "    # setup grid hyperparameter search for LogisticRegression\n",
    "    model_pipeline_tune = GridSearchCV(model_pipeline,\n",
    "                          param_grid=param_grid[model_name],\n",
    "                          cv=5,\n",
    "                          verbose=True, \n",
    "                         n_jobs=-1)\n",
    "    \n",
    "    # Fit the model pipeline to the training data\n",
    "    print(f\"\\nFitting {model_name}...\")\n",
    "    model_pipeline_tune.fit(X_train, y_train)\n",
    "    print(f\"{model_name} was fitted!\")\n",
    "    \n",
    "    # fill the best barameters finding by GridSearchCV for each model\n",
    "    best_parameters_by_model[model_name] = model_pipeline_tune.best_params_\n",
    "    \n",
    "    # Score the model pipeline on the validation data appending the model_name to the \n",
    "    # results dictionary\n",
    "    print(f\"Scoring {model_name}...\")\n",
    "    classification_results_tune[model_name] = round(model_pipeline_tune.score(X_val, y_val) * 100, 2)\n",
    "    print(f\"{model_name} was scored!\")\n",
    "    \n",
    "    # predictions on validation data\n",
    "    y_val_preds[model_name] = model_pipeline_tune.predict(X_val)\n",
    "\n",
    "    # predictions on test data\n",
    "    print(f\"Making predictions {model_name}...\")\n",
    "    y_preds[model_name] = model_pipeline_tune.predict(X_test)\n",
    "    print(f\"{model_name} predictions done!\")"
   ]
  },
  {
   "cell_type": "code",
   "execution_count": 24,
   "metadata": {
    "colab": {
     "base_uri": "https://localhost:8080/",
     "height": 170
    },
    "id": "h_6tTid3evHZ",
    "outputId": "55912db6-1dc9-4194-b696-27335f1f9af5"
   },
   "outputs": [
    {
     "data": {
      "text/plain": [
       "{'LogisticRegression': {'logisticregression__C': 1.623776739188721,\n",
       "  'logisticregression__penalty': 'l2',\n",
       "  'logisticregression__solver': 'newton-cg'},\n",
       " 'KNeighborsClassifier': {'kneighborsclassifier__metric': 'manhattan',\n",
       "  'kneighborsclassifier__n_neighbors': 17,\n",
       "  'kneighborsclassifier__weights': 'uniform'},\n",
       " 'RandomForestClassifier': {'randomforestclassifier__max_depth': 10,\n",
       "  'randomforestclassifier__max_features': 0.30000000000000004,\n",
       "  'randomforestclassifier__min_samples_leaf': 1,\n",
       "  'randomforestclassifier__min_samples_split': 5,\n",
       "  'randomforestclassifier__n_estimators': 100}}"
      ]
     },
     "execution_count": 24,
     "metadata": {},
     "output_type": "execute_result"
    }
   ],
   "source": [
    "# check best parameters\n",
    "best_parameters_by_model"
   ]
  },
  {
   "cell_type": "code",
   "execution_count": 25,
   "metadata": {
    "colab": {
     "base_uri": "https://localhost:8080/",
     "height": 85
    },
    "id": "I5yPCLj-evHc",
    "outputId": "553adcc1-9d70-40ab-f051-bc3bf31e66c1",
    "scrolled": true
   },
   "outputs": [
    {
     "name": "stdout",
     "output_type": "stream",
     "text": [
      "WITHOUT TUNE\n",
      "{'LogisticRegression': 75.98, 'KNeighborsClassifier': 66.48, 'RandomForestClassifier': 72.07}\n",
      "WITH TUNE\n",
      "{'LogisticRegression': 76.54, 'KNeighborsClassifier': 70.95, 'RandomForestClassifier': 73.74}\n"
     ]
    }
   ],
   "source": [
    "# Check the results of each classification model by printing the classification_results dictionary\n",
    "print(\"WITHOUT TUNE\")\n",
    "print(classification_results)\n",
    "print(\"WITH TUNE\")\n",
    "print(classification_results_tune)"
   ]
  },
  {
   "cell_type": "code",
   "execution_count": 26,
   "metadata": {
    "colab": {
     "base_uri": "https://localhost:8080/",
     "height": 444
    },
    "id": "6X2GZTByjcxC",
    "outputId": "fe4a4134-d8aa-4818-a149-6172ff4b3967"
   },
   "outputs": [
    {
     "data": {
      "image/png": "[encoded data removed]",
      "text/plain": [
       "<Figure size 720x504 with 1 Axes>"
      ]
     },
     "metadata": {
      "needs_background": "light"
     },
     "output_type": "display_data"
    }
   ],
   "source": [
    "compare_metrics = pd.DataFrame({\"without_tuning\": classification_results,\n",
    "                                \"with_tuning\": classification_results_tune})\n",
    "compare_metrics.plot.barh(figsize=(10, 7), ylabel=\"accuracy\", title=\"Comparing models WITHOUT and WITH tuning\");"
   ]
  },
  {
   "cell_type": "markdown",
   "metadata": {
    "id": "noCSS6-revHe"
   },
   "source": [
    "### Evaluating a classification model, beyond accuracy\n",
    "\n",
    "We want:\n",
    "\n",
    "* Confusion matrix - confusion_matrix()\n",
    "* Classification report - classification_report()\n",
    "\n",
    "**Confusion matrix**\n",
    "\n",
    "A confusion matrix is a visual way to show where your model made the right predictions and where it made the wrong predictions (or in other words, got confused).\n",
    "\n",
    "Scikit-Learn allows us to create a confusion matrix using confusion_matrix() and passing it the true labels and predicted labels."
   ]
  },
  {
   "cell_type": "code",
   "execution_count": 27,
   "metadata": {
    "colab": {
     "base_uri": "https://localhost:8080/",
     "height": 933
    },
    "id": "ZCX6gXl7evHf",
    "outputId": "d64f1475-1fd2-4719-e47b-3d82b1978678"
   },
   "outputs": [
    {
     "name": "stdout",
     "output_type": "stream",
     "text": [
      "3\n"
     ]
    },
    {
     "data": {
      "image/png": "[encoded data removed]",
      "text/plain": [
       "<Figure size 216x1080 with 3 Axes>"
      ]
     },
     "metadata": {},
     "output_type": "display_data"
    }
   ],
   "source": [
    "sns.set(font_scale=1.5) # Increase font size\n",
    "\n",
    "def plot_conf_mat(y_test, y_preds):\n",
    "    \"\"\"\n",
    "    Plots a confusion matrix using Seaborn's heatmap().\n",
    "    \"\"\"\n",
    "    plt.figure(figsize=(3, 15))\n",
    "    i = 1\n",
    "    for model_name, predictions_by_model in y_preds.items():\n",
    "        ax = plt.subplot(3, 1, i)\n",
    "        ax = sns.heatmap(confusion_matrix(y_test, predictions_by_model),\n",
    "                     annot=True, # Annotate the boxes\n",
    "                     cbar=False)\n",
    "        plt.ylabel(\"predicted label\")\n",
    "        plt.title(model_name)\n",
    "        i += 1\n",
    "    plt.xlabel(\"true label\")\n",
    "\n",
    "print(len(y_val_preds))\n",
    "plot_conf_mat(y_val, y_val_preds)"
   ]
  },
  {
   "cell_type": "markdown",
   "metadata": {
    "id": "I61J8vmaevHh"
   },
   "source": [
    "**Classification report**\n",
    "\n",
    "We can make a classification report using classification_report() and passing it the true labels as well as our models predicted labels.\n",
    "\n",
    "A classification report will also give us information of the precision and recall of our model for each class."
   ]
  },
  {
   "cell_type": "code",
   "execution_count": 28,
   "metadata": {
    "colab": {
     "base_uri": "https://localhost:8080/",
     "height": 527
    },
    "id": "JRQsN643evHi",
    "outputId": "3cadc614-7103-4503-c274-c08ea5c049af"
   },
   "outputs": [
    {
     "name": "stdout",
     "output_type": "stream",
     "text": [
      "\tLogisticRegression\n",
      "              precision    recall  f1-score   support\n",
      "\n",
      "           0       0.74      0.93      0.82       105\n",
      "           1       0.85      0.53      0.65        74\n",
      "\n",
      "    accuracy                           0.77       179\n",
      "   macro avg       0.79      0.73      0.74       179\n",
      "weighted avg       0.78      0.77      0.75       179\n",
      "\n",
      "\tKNeighborsClassifier\n",
      "              precision    recall  f1-score   support\n",
      "\n",
      "           0       0.69      0.93      0.79       105\n",
      "           1       0.81      0.39      0.53        74\n",
      "\n",
      "    accuracy                           0.71       179\n",
      "   macro avg       0.75      0.66      0.66       179\n",
      "weighted avg       0.74      0.71      0.68       179\n",
      "\n",
      "\tRandomForestClassifier\n",
      "              precision    recall  f1-score   support\n",
      "\n",
      "           0       0.72      0.91      0.80       105\n",
      "           1       0.80      0.49      0.61        74\n",
      "\n",
      "    accuracy                           0.74       179\n",
      "   macro avg       0.76      0.70      0.70       179\n",
      "weighted avg       0.75      0.74      0.72       179\n",
      "\n"
     ]
    }
   ],
   "source": [
    "# show classification report\n",
    "for model_name, prediction_by_model in y_val_preds.items():\n",
    "    print('\\t' + model_name)\n",
    "    print(classification_report(y_val, prediction_by_model))\n"
   ]
  },
  {
   "cell_type": "markdown",
   "metadata": {
    "id": "S_dc9l7Ln5O3"
   },
   "source": [
    "### Result\n",
    "\n",
    "So, let's create a data frame for each model. Every data frame will contain:\n",
    "* Passanger ID\n",
    "* Name\n",
    "* Is Survived"
   ]
  },
  {
   "cell_type": "code",
   "execution_count": 29,
   "metadata": {
    "id": "Y8deZbcVevHl"
   },
   "outputs": [],
   "source": [
    "# create simple function to convert row from 0 and 1 to 'No' and 'Yes'\n",
    "def convert_predictions(y_pred):\n",
    "    new_preds = []\n",
    "    for pred in y_pred:\n",
    "        if pred == 0:\n",
    "            new_preds.append('No')\n",
    "        else:\n",
    "            new_preds.append('Yes')\n",
    "    return new_preds"
   ]
  },
  {
   "cell_type": "code",
   "execution_count": 30,
   "metadata": {
    "id": "VLSfERMqpXbL"
   },
   "outputs": [],
   "source": [
    "# convert predictions\n",
    "new_preds = {}\n",
    "for model_name, prediction_by_model in y_preds.items():\n",
    "    new_preds[model_name] = convert_predictions(prediction_by_model)"
   ]
  },
  {
   "cell_type": "code",
   "execution_count": 31,
   "metadata": {
    "colab": {
     "base_uri": "https://localhost:8080/",
     "height": 326
    },
    "id": "lJXVmJYIp4E8",
    "outputId": "c21c8065-e13d-4fad-d328-75fed219928d"
   },
   "outputs": [
    {
     "data": {
      "text/html": [
       "<div>\n",
       "<style scoped>\n",
       "    .dataframe tbody tr th:only-of-type {\n",
       "        vertical-align: middle;\n",
       "    }\n",
       "\n",
       "    .dataframe tbody tr th {\n",
       "        vertical-align: top;\n",
       "    }\n",
       "\n",
       "    .dataframe thead th {\n",
       "        text-align: right;\n",
       "    }\n",
       "</style>\n",
       "<table border=\"1\" class=\"dataframe\">\n",
       "  <thead>\n",
       "    <tr style=\"text-align: right;\">\n",
       "      <th></th>\n",
       "      <th>PassengerId</th>\n",
       "      <th>Name</th>\n",
       "      <th>Survived</th>\n",
       "    </tr>\n",
       "  </thead>\n",
       "  <tbody>\n",
       "    <tr>\n",
       "      <th>0</th>\n",
       "      <td>892</td>\n",
       "      <td>Kelly, Mr. James</td>\n",
       "      <td>No</td>\n",
       "    </tr>\n",
       "    <tr>\n",
       "      <th>1</th>\n",
       "      <td>893</td>\n",
       "      <td>Wilkes, Mrs. James (Ellen Needs)</td>\n",
       "      <td>No</td>\n",
       "    </tr>\n",
       "    <tr>\n",
       "      <th>2</th>\n",
       "      <td>894</td>\n",
       "      <td>Myles, Mr. Thomas Francis</td>\n",
       "      <td>No</td>\n",
       "    </tr>\n",
       "    <tr>\n",
       "      <th>3</th>\n",
       "      <td>895</td>\n",
       "      <td>Wirz, Mr. Albert</td>\n",
       "      <td>No</td>\n",
       "    </tr>\n",
       "    <tr>\n",
       "      <th>4</th>\n",
       "      <td>896</td>\n",
       "      <td>Hirvonen, Mrs. Alexander (Helga E Lindqvist)</td>\n",
       "      <td>No</td>\n",
       "    </tr>\n",
       "  </tbody>\n",
       "</table>\n",
       "</div>"
      ],
      "text/plain": [
       "   PassengerId                                          Name Survived\n",
       "0          892                              Kelly, Mr. James       No\n",
       "1          893              Wilkes, Mrs. James (Ellen Needs)       No\n",
       "2          894                     Myles, Mr. Thomas Francis       No\n",
       "3          895                              Wirz, Mr. Albert       No\n",
       "4          896  Hirvonen, Mrs. Alexander (Helga E Lindqvist)       No"
      ]
     },
     "execution_count": 31,
     "metadata": {},
     "output_type": "execute_result"
    }
   ],
   "source": [
    "# create a data frame for LogisticRegression model\n",
    "log_reg_df = res_df.copy()\n",
    "log_reg_df['Survived'] = new_preds['LogisticRegression']\n",
    "log_reg_df.head()"
   ]
  },
  {
   "cell_type": "code",
   "execution_count": 32,
   "metadata": {
    "colab": {
     "base_uri": "https://localhost:8080/",
     "height": 326
    },
    "id": "u0h_HyEZqMJs",
    "outputId": "823c3613-a490-477c-c0a2-1637d24f1981"
   },
   "outputs": [
    {
     "data": {
      "text/html": [
       "<div>\n",
       "<style scoped>\n",
       "    .dataframe tbody tr th:only-of-type {\n",
       "        vertical-align: middle;\n",
       "    }\n",
       "\n",
       "    .dataframe tbody tr th {\n",
       "        vertical-align: top;\n",
       "    }\n",
       "\n",
       "    .dataframe thead th {\n",
       "        text-align: right;\n",
       "    }\n",
       "</style>\n",
       "<table border=\"1\" class=\"dataframe\">\n",
       "  <thead>\n",
       "    <tr style=\"text-align: right;\">\n",
       "      <th></th>\n",
       "      <th>PassengerId</th>\n",
       "      <th>Name</th>\n",
       "      <th>Survived</th>\n",
       "    </tr>\n",
       "  </thead>\n",
       "  <tbody>\n",
       "    <tr>\n",
       "      <th>0</th>\n",
       "      <td>892</td>\n",
       "      <td>Kelly, Mr. James</td>\n",
       "      <td>No</td>\n",
       "    </tr>\n",
       "    <tr>\n",
       "      <th>1</th>\n",
       "      <td>893</td>\n",
       "      <td>Wilkes, Mrs. James (Ellen Needs)</td>\n",
       "      <td>No</td>\n",
       "    </tr>\n",
       "    <tr>\n",
       "      <th>2</th>\n",
       "      <td>894</td>\n",
       "      <td>Myles, Mr. Thomas Francis</td>\n",
       "      <td>No</td>\n",
       "    </tr>\n",
       "    <tr>\n",
       "      <th>3</th>\n",
       "      <td>895</td>\n",
       "      <td>Wirz, Mr. Albert</td>\n",
       "      <td>No</td>\n",
       "    </tr>\n",
       "    <tr>\n",
       "      <th>4</th>\n",
       "      <td>896</td>\n",
       "      <td>Hirvonen, Mrs. Alexander (Helga E Lindqvist)</td>\n",
       "      <td>No</td>\n",
       "    </tr>\n",
       "  </tbody>\n",
       "</table>\n",
       "</div>"
      ],
      "text/plain": [
       "   PassengerId                                          Name Survived\n",
       "0          892                              Kelly, Mr. James       No\n",
       "1          893              Wilkes, Mrs. James (Ellen Needs)       No\n",
       "2          894                     Myles, Mr. Thomas Francis       No\n",
       "3          895                              Wirz, Mr. Albert       No\n",
       "4          896  Hirvonen, Mrs. Alexander (Helga E Lindqvist)       No"
      ]
     },
     "execution_count": 32,
     "metadata": {},
     "output_type": "execute_result"
    }
   ],
   "source": [
    "# create a data frame for KNeighborsClassifier model\n",
    "knn_df = res_df.copy()\n",
    "knn_df['Survived'] = new_preds['KNeighborsClassifier']\n",
    "knn_df.head()"
   ]
  },
  {
   "cell_type": "code",
   "execution_count": 34,
   "metadata": {
    "colab": {
     "base_uri": "https://localhost:8080/",
     "height": 326
    },
    "id": "4VCnWE9tqM9j",
    "outputId": "e0729117-860a-4d58-bbe9-51c60def8f9d"
   },
   "outputs": [
    {
     "data": {
      "text/html": [
       "<div>\n",
       "<style scoped>\n",
       "    .dataframe tbody tr th:only-of-type {\n",
       "        vertical-align: middle;\n",
       "    }\n",
       "\n",
       "    .dataframe tbody tr th {\n",
       "        vertical-align: top;\n",
       "    }\n",
       "\n",
       "    .dataframe thead th {\n",
       "        text-align: right;\n",
       "    }\n",
       "</style>\n",
       "<table border=\"1\" class=\"dataframe\">\n",
       "  <thead>\n",
       "    <tr style=\"text-align: right;\">\n",
       "      <th></th>\n",
       "      <th>PassengerId</th>\n",
       "      <th>Name</th>\n",
       "      <th>Survived</th>\n",
       "    </tr>\n",
       "  </thead>\n",
       "  <tbody>\n",
       "    <tr>\n",
       "      <th>0</th>\n",
       "      <td>892</td>\n",
       "      <td>Kelly, Mr. James</td>\n",
       "      <td>No</td>\n",
       "    </tr>\n",
       "    <tr>\n",
       "      <th>1</th>\n",
       "      <td>893</td>\n",
       "      <td>Wilkes, Mrs. James (Ellen Needs)</td>\n",
       "      <td>No</td>\n",
       "    </tr>\n",
       "    <tr>\n",
       "      <th>2</th>\n",
       "      <td>894</td>\n",
       "      <td>Myles, Mr. Thomas Francis</td>\n",
       "      <td>No</td>\n",
       "    </tr>\n",
       "    <tr>\n",
       "      <th>3</th>\n",
       "      <td>895</td>\n",
       "      <td>Wirz, Mr. Albert</td>\n",
       "      <td>No</td>\n",
       "    </tr>\n",
       "    <tr>\n",
       "      <th>4</th>\n",
       "      <td>896</td>\n",
       "      <td>Hirvonen, Mrs. Alexander (Helga E Lindqvist)</td>\n",
       "      <td>No</td>\n",
       "    </tr>\n",
       "  </tbody>\n",
       "</table>\n",
       "</div>"
      ],
      "text/plain": [
       "   PassengerId                                          Name Survived\n",
       "0          892                              Kelly, Mr. James       No\n",
       "1          893              Wilkes, Mrs. James (Ellen Needs)       No\n",
       "2          894                     Myles, Mr. Thomas Francis       No\n",
       "3          895                              Wirz, Mr. Albert       No\n",
       "4          896  Hirvonen, Mrs. Alexander (Helga E Lindqvist)       No"
      ]
     },
     "execution_count": 34,
     "metadata": {},
     "output_type": "execute_result"
    }
   ],
   "source": [
    "# create a data frame for RandomForestClassifier model\n",
    "ran_for_df = res_df.copy()\n",
    "ran_for_df['Survived'] = new_preds['RandomForestClassifier']\n",
    "ran_for_df.head()"
   ]
  },
  {
   "cell_type": "code",
   "execution_count": 40,
   "metadata": {},
   "outputs": [
    {
     "data": {
      "image/png": "[encoded data removed]",
      "text/plain": [
       "<Figure size 1224x648 with 3 Axes>"
      ]
     },
     "metadata": {},
     "output_type": "display_data"
    }
   ],
   "source": [
    "# plot how many passangers survived and not for each model\n",
    "plt.figure(figsize=(17, 9))\n",
    "\n",
    "plt.subplot(1, 3, 1)\n",
    "df = log_reg_df['Survived'].value_counts()\n",
    "df.index = ['No', 'Yes']\n",
    "df.plot(kind='bar', color=['salmon', 'deeppink'])\n",
    "plt.title('Is Survived?\\nAccording LogisticRegression model')\n",
    "plt.ylabel('Frequency')\n",
    "plt.xticks(rotation='horizontal');\n",
    "\n",
    "plt.subplot(1, 3, 2)\n",
    "df = knn_df['Survived'].value_counts()\n",
    "df.index = ['No', 'Yes']\n",
    "df.plot(kind='bar', color=['salmon', 'deeppink'])\n",
    "plt.title('Is Survived?\\nAccording KNeighborsClassifier model')\n",
    "plt.xticks(rotation='horizontal');\n",
    "\n",
    "plt.subplot(1, 3, 3)\n",
    "df = ran_for_df['Survived'].value_counts()\n",
    "df.index = ['No', 'Yes']\n",
    "df.plot(kind='bar', color=['salmon', 'deeppink'])\n",
    "plt.title('Is Survived?\\nAccording RandomForestClassifier model')\n",
    "plt.xticks(rotation='horizontal');"
   ]
  }
 ],
 "metadata": {
  "colab": {
   "collapsed_sections": [],
   "name": "Titanic.ipynb",
   "provenance": [],
   "toc_visible": true
  },
  "kernelspec": {
   "display_name": "Python 3",
   "language": "python",
   "name": "python3"
  },
  "language_info": {
   "codemirror_mode": {
    "name": "ipython",
    "version": 3
   },
   "file_extension": ".py",
   "mimetype": "text/x-python",
   "name": "python",
   "nbconvert_exporter": "python",
   "pygments_lexer": "ipython3",
   "version": "3.8.5"
  }
 },
 "nbformat": 4,
 "nbformat_minor": 1
}
